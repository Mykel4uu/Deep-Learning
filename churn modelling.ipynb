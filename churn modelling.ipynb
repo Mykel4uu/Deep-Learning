{
 "cells": [
  {
   "cell_type": "code",
   "execution_count": 1,
   "id": "465eadce",
   "metadata": {},
   "outputs": [],
   "source": [
    "# import dependencies\n",
    "import pandas as pd\n",
    "import matplotlib.pyplot as plt\n",
    "import numpy as np"
   ]
  },
  {
   "cell_type": "code",
   "execution_count": 2,
   "id": "68d244f3",
   "metadata": {},
   "outputs": [
    {
     "data": {
      "text/html": [
       "<div>\n",
       "<style scoped>\n",
       "    .dataframe tbody tr th:only-of-type {\n",
       "        vertical-align: middle;\n",
       "    }\n",
       "\n",
       "    .dataframe tbody tr th {\n",
       "        vertical-align: top;\n",
       "    }\n",
       "\n",
       "    .dataframe thead th {\n",
       "        text-align: right;\n",
       "    }\n",
       "</style>\n",
       "<table border=\"1\" class=\"dataframe\">\n",
       "  <thead>\n",
       "    <tr style=\"text-align: right;\">\n",
       "      <th></th>\n",
       "      <th>RowNumber</th>\n",
       "      <th>CustomerId</th>\n",
       "      <th>Surname</th>\n",
       "      <th>CreditScore</th>\n",
       "      <th>Geography</th>\n",
       "      <th>Gender</th>\n",
       "      <th>Age</th>\n",
       "      <th>Tenure</th>\n",
       "      <th>Balance</th>\n",
       "      <th>NumOfProducts</th>\n",
       "      <th>HasCrCard</th>\n",
       "      <th>IsActiveMember</th>\n",
       "      <th>EstimatedSalary</th>\n",
       "      <th>Exited</th>\n",
       "    </tr>\n",
       "  </thead>\n",
       "  <tbody>\n",
       "    <tr>\n",
       "      <th>0</th>\n",
       "      <td>1</td>\n",
       "      <td>15634602</td>\n",
       "      <td>Hargrave</td>\n",
       "      <td>619</td>\n",
       "      <td>France</td>\n",
       "      <td>Female</td>\n",
       "      <td>42</td>\n",
       "      <td>2</td>\n",
       "      <td>0.00</td>\n",
       "      <td>1</td>\n",
       "      <td>1</td>\n",
       "      <td>1</td>\n",
       "      <td>101348.88</td>\n",
       "      <td>1</td>\n",
       "    </tr>\n",
       "    <tr>\n",
       "      <th>1</th>\n",
       "      <td>2</td>\n",
       "      <td>15647311</td>\n",
       "      <td>Hill</td>\n",
       "      <td>608</td>\n",
       "      <td>Spain</td>\n",
       "      <td>Female</td>\n",
       "      <td>41</td>\n",
       "      <td>1</td>\n",
       "      <td>83807.86</td>\n",
       "      <td>1</td>\n",
       "      <td>0</td>\n",
       "      <td>1</td>\n",
       "      <td>112542.58</td>\n",
       "      <td>0</td>\n",
       "    </tr>\n",
       "    <tr>\n",
       "      <th>2</th>\n",
       "      <td>3</td>\n",
       "      <td>15619304</td>\n",
       "      <td>Onio</td>\n",
       "      <td>502</td>\n",
       "      <td>France</td>\n",
       "      <td>Female</td>\n",
       "      <td>42</td>\n",
       "      <td>8</td>\n",
       "      <td>159660.80</td>\n",
       "      <td>3</td>\n",
       "      <td>1</td>\n",
       "      <td>0</td>\n",
       "      <td>113931.57</td>\n",
       "      <td>1</td>\n",
       "    </tr>\n",
       "    <tr>\n",
       "      <th>3</th>\n",
       "      <td>4</td>\n",
       "      <td>15701354</td>\n",
       "      <td>Boni</td>\n",
       "      <td>699</td>\n",
       "      <td>France</td>\n",
       "      <td>Female</td>\n",
       "      <td>39</td>\n",
       "      <td>1</td>\n",
       "      <td>0.00</td>\n",
       "      <td>2</td>\n",
       "      <td>0</td>\n",
       "      <td>0</td>\n",
       "      <td>93826.63</td>\n",
       "      <td>0</td>\n",
       "    </tr>\n",
       "    <tr>\n",
       "      <th>4</th>\n",
       "      <td>5</td>\n",
       "      <td>15737888</td>\n",
       "      <td>Mitchell</td>\n",
       "      <td>850</td>\n",
       "      <td>Spain</td>\n",
       "      <td>Female</td>\n",
       "      <td>43</td>\n",
       "      <td>2</td>\n",
       "      <td>125510.82</td>\n",
       "      <td>1</td>\n",
       "      <td>1</td>\n",
       "      <td>1</td>\n",
       "      <td>79084.10</td>\n",
       "      <td>0</td>\n",
       "    </tr>\n",
       "  </tbody>\n",
       "</table>\n",
       "</div>"
      ],
      "text/plain": [
       "   RowNumber  CustomerId   Surname  CreditScore Geography  Gender  Age  \\\n",
       "0          1    15634602  Hargrave          619    France  Female   42   \n",
       "1          2    15647311      Hill          608     Spain  Female   41   \n",
       "2          3    15619304      Onio          502    France  Female   42   \n",
       "3          4    15701354      Boni          699    France  Female   39   \n",
       "4          5    15737888  Mitchell          850     Spain  Female   43   \n",
       "\n",
       "   Tenure    Balance  NumOfProducts  HasCrCard  IsActiveMember  \\\n",
       "0       2       0.00              1          1               1   \n",
       "1       1   83807.86              1          0               1   \n",
       "2       8  159660.80              3          1               0   \n",
       "3       1       0.00              2          0               0   \n",
       "4       2  125510.82              1          1               1   \n",
       "\n",
       "   EstimatedSalary  Exited  \n",
       "0        101348.88       1  \n",
       "1        112542.58       0  \n",
       "2        113931.57       1  \n",
       "3         93826.63       0  \n",
       "4         79084.10       0  "
      ]
     },
     "execution_count": 2,
     "metadata": {},
     "output_type": "execute_result"
    }
   ],
   "source": [
    "# read the file\n",
    "df = pd.read_csv('Churn_Modelling.csv')\n",
    "df.head()"
   ]
  },
  {
   "cell_type": "code",
   "execution_count": 3,
   "id": "2258d43c",
   "metadata": {},
   "outputs": [],
   "source": [
    "# Two categorical vaiabales needs to be converted to dummy variable\n",
    "geography = pd.get_dummies(df['Geography'])\n",
    "gender = pd.get_dummies(df['Gender'])"
   ]
  },
  {
   "cell_type": "code",
   "execution_count": 4,
   "id": "ae40116f",
   "metadata": {},
   "outputs": [
    {
     "data": {
      "text/plain": [
       "(10000, 17)"
      ]
     },
     "execution_count": 4,
     "metadata": {},
     "output_type": "execute_result"
    }
   ],
   "source": [
    "df = pd.concat([df, geography, gender], axis=1)\n",
    "df = df.drop(['Geography', 'Gender'], axis=1)\n",
    "df.shape"
   ]
  },
  {
   "cell_type": "code",
   "execution_count": 5,
   "id": "305ce7bf",
   "metadata": {},
   "outputs": [
    {
     "data": {
      "text/plain": [
       "(10000, 13)"
      ]
     },
     "execution_count": 5,
     "metadata": {},
     "output_type": "execute_result"
    }
   ],
   "source": [
    "# Drop the columns with leass info within the independent feature and keep the dependent feature alone\n",
    "x = df.drop(['Exited', 'RowNumber', 'CustomerId', 'Surname'], axis=1)\n",
    "y = df['Exited']\n",
    "x.shape"
   ]
  },
  {
   "cell_type": "code",
   "execution_count": 6,
   "id": "d0ae74a8",
   "metadata": {},
   "outputs": [],
   "source": [
    "# Split the input and test data into train and test\n",
    "from sklearn.model_selection import train_test_split\n",
    "x_train, x_test, y_train, y_test = train_test_split(x, y, test_size=0.2, random_state=42)"
   ]
  },
  {
   "cell_type": "code",
   "execution_count": 7,
   "id": "bda2f756",
   "metadata": {},
   "outputs": [
    {
     "data": {
      "text/plain": [
       "((8000, 13), (2000, 13))"
      ]
     },
     "execution_count": 7,
     "metadata": {},
     "output_type": "execute_result"
    }
   ],
   "source": [
    "# scale the input features to reduce the biasness \n",
    "from sklearn.preprocessing import StandardScaler\n",
    "sc = StandardScaler()\n",
    "x_test = sc.fit_transform(x_test)\n",
    "x_train = sc.fit_transform(x_train)\n",
    "x_train.shape, x_test.shape"
   ]
  },
  {
   "cell_type": "code",
   "execution_count": 8,
   "id": "cf3f6bfe",
   "metadata": {},
   "outputs": [],
   "source": [
    "import tensorflow as tf\n",
    "from tensorflow.keras import Sequential\n",
    "#from tensorflow.keras.layers import Dense, Dropout"
   ]
  },
  {
   "cell_type": "code",
   "execution_count": 37,
   "id": "58c5d095",
   "metadata": {},
   "outputs": [
    {
     "name": "stdout",
     "output_type": "stream",
     "text": [
      "Epoch 1/100\n",
      "800/800 [==============================] - 4s 4ms/step - loss: 0.6722 - Accuracy: 0.7329 - val_loss: 0.5302 - val_Accuracy: 0.8035\n",
      "Epoch 2/100\n",
      "800/800 [==============================] - 3s 4ms/step - loss: 0.5372 - Accuracy: 0.7915 - val_loss: 0.4928 - val_Accuracy: 0.8035\n",
      "Epoch 3/100\n",
      "800/800 [==============================] - 3s 4ms/step - loss: 0.5103 - Accuracy: 0.7943 - val_loss: 0.4772 - val_Accuracy: 0.8035\n",
      "Epoch 4/100\n",
      "800/800 [==============================] - 3s 3ms/step - loss: 0.4920 - Accuracy: 0.7945 - val_loss: 0.4591 - val_Accuracy: 0.8035\n",
      "Epoch 5/100\n",
      "800/800 [==============================] - 3s 4ms/step - loss: 0.4869 - Accuracy: 0.7961 - val_loss: 0.4465 - val_Accuracy: 0.8035\n",
      "Epoch 6/100\n",
      "800/800 [==============================] - 3s 4ms/step - loss: 0.4751 - Accuracy: 0.7979 - val_loss: 0.4330 - val_Accuracy: 0.8040\n",
      "Epoch 7/100\n",
      "800/800 [==============================] - 3s 4ms/step - loss: 0.4645 - Accuracy: 0.7946 - val_loss: 0.4234 - val_Accuracy: 0.8045\n",
      "Epoch 8/100\n",
      "800/800 [==============================] - 3s 3ms/step - loss: 0.4590 - Accuracy: 0.8000 - val_loss: 0.4188 - val_Accuracy: 0.8045\n",
      "Epoch 9/100\n",
      "800/800 [==============================] - 3s 4ms/step - loss: 0.4580 - Accuracy: 0.8004 - val_loss: 0.4161 - val_Accuracy: 0.8055\n",
      "Epoch 10/100\n",
      "800/800 [==============================] - 3s 3ms/step - loss: 0.4505 - Accuracy: 0.8026 - val_loss: 0.4124 - val_Accuracy: 0.8045\n",
      "Epoch 11/100\n",
      "800/800 [==============================] - 3s 4ms/step - loss: 0.4478 - Accuracy: 0.8075 - val_loss: 0.4042 - val_Accuracy: 0.8070\n",
      "Epoch 12/100\n",
      "800/800 [==============================] - 3s 4ms/step - loss: 0.4465 - Accuracy: 0.8046 - val_loss: 0.4062 - val_Accuracy: 0.8105\n",
      "Epoch 13/100\n",
      "800/800 [==============================] - 3s 3ms/step - loss: 0.4448 - Accuracy: 0.8058 - val_loss: 0.3996 - val_Accuracy: 0.8185\n",
      "Epoch 14/100\n",
      "800/800 [==============================] - 3s 4ms/step - loss: 0.4430 - Accuracy: 0.8070 - val_loss: 0.4021 - val_Accuracy: 0.8150\n",
      "Epoch 15/100\n",
      "800/800 [==============================] - 3s 3ms/step - loss: 0.4452 - Accuracy: 0.8071 - val_loss: 0.4007 - val_Accuracy: 0.8140\n",
      "Epoch 16/100\n",
      "800/800 [==============================] - 3s 4ms/step - loss: 0.4417 - Accuracy: 0.8123 - val_loss: 0.3978 - val_Accuracy: 0.8180\n",
      "Epoch 17/100\n",
      "800/800 [==============================] - 3s 4ms/step - loss: 0.4425 - Accuracy: 0.8087 - val_loss: 0.3989 - val_Accuracy: 0.8160\n",
      "Epoch 18/100\n",
      "800/800 [==============================] - 3s 3ms/step - loss: 0.4390 - Accuracy: 0.8079 - val_loss: 0.3959 - val_Accuracy: 0.8165\n",
      "Epoch 19/100\n",
      "800/800 [==============================] - 3s 4ms/step - loss: 0.4371 - Accuracy: 0.8124 - val_loss: 0.3959 - val_Accuracy: 0.8135\n",
      "Epoch 20/100\n",
      "800/800 [==============================] - 3s 4ms/step - loss: 0.4383 - Accuracy: 0.8075 - val_loss: 0.3931 - val_Accuracy: 0.8240\n",
      "Epoch 21/100\n",
      "800/800 [==============================] - 3s 4ms/step - loss: 0.4392 - Accuracy: 0.8085 - val_loss: 0.3904 - val_Accuracy: 0.8245\n",
      "Epoch 22/100\n",
      "800/800 [==============================] - 3s 4ms/step - loss: 0.4418 - Accuracy: 0.8098 - val_loss: 0.3977 - val_Accuracy: 0.8195\n",
      "Epoch 23/100\n",
      "800/800 [==============================] - 3s 4ms/step - loss: 0.4302 - Accuracy: 0.8175 - val_loss: 0.3856 - val_Accuracy: 0.8350\n",
      "Epoch 24/100\n",
      "800/800 [==============================] - 3s 4ms/step - loss: 0.4323 - Accuracy: 0.8115 - val_loss: 0.3899 - val_Accuracy: 0.8285\n",
      "Epoch 25/100\n",
      "800/800 [==============================] - 3s 4ms/step - loss: 0.4333 - Accuracy: 0.8139 - val_loss: 0.3881 - val_Accuracy: 0.8325\n",
      "Epoch 26/100\n",
      "800/800 [==============================] - 3s 4ms/step - loss: 0.4359 - Accuracy: 0.8099 - val_loss: 0.3905 - val_Accuracy: 0.8275\n",
      "Epoch 27/100\n",
      "800/800 [==============================] - 3s 4ms/step - loss: 0.4325 - Accuracy: 0.8179 - val_loss: 0.3821 - val_Accuracy: 0.8365\n",
      "Epoch 28/100\n",
      "800/800 [==============================] - 3s 4ms/step - loss: 0.4310 - Accuracy: 0.8163 - val_loss: 0.3815 - val_Accuracy: 0.8350\n",
      "Epoch 29/100\n",
      "800/800 [==============================] - 3s 4ms/step - loss: 0.4216 - Accuracy: 0.8227 - val_loss: 0.3743 - val_Accuracy: 0.8405\n",
      "Epoch 30/100\n",
      "800/800 [==============================] - 3s 4ms/step - loss: 0.4210 - Accuracy: 0.8216 - val_loss: 0.3706 - val_Accuracy: 0.8460\n",
      "Epoch 31/100\n",
      "800/800 [==============================] - 3s 4ms/step - loss: 0.4241 - Accuracy: 0.8230 - val_loss: 0.3739 - val_Accuracy: 0.8455\n",
      "Epoch 32/100\n",
      "800/800 [==============================] - 3s 4ms/step - loss: 0.4166 - Accuracy: 0.8242 - val_loss: 0.3684 - val_Accuracy: 0.8500\n",
      "Epoch 33/100\n",
      "800/800 [==============================] - 3s 4ms/step - loss: 0.4171 - Accuracy: 0.8266 - val_loss: 0.3633 - val_Accuracy: 0.8560\n",
      "Epoch 34/100\n",
      "800/800 [==============================] - 3s 3ms/step - loss: 0.4267 - Accuracy: 0.8216 - val_loss: 0.3683 - val_Accuracy: 0.8485\n",
      "Epoch 35/100\n",
      "800/800 [==============================] - 3s 4ms/step - loss: 0.4153 - Accuracy: 0.8254 - val_loss: 0.3634 - val_Accuracy: 0.8525\n",
      "Epoch 36/100\n",
      "800/800 [==============================] - 3s 4ms/step - loss: 0.4216 - Accuracy: 0.8253 - val_loss: 0.3675 - val_Accuracy: 0.8475\n",
      "Epoch 37/100\n",
      "800/800 [==============================] - 3s 3ms/step - loss: 0.4176 - Accuracy: 0.8229 - val_loss: 0.3654 - val_Accuracy: 0.8510\n",
      "Epoch 38/100\n",
      "800/800 [==============================] - 3s 4ms/step - loss: 0.4166 - Accuracy: 0.8249 - val_loss: 0.3637 - val_Accuracy: 0.8505\n",
      "Epoch 39/100\n",
      "800/800 [==============================] - 3s 4ms/step - loss: 0.4205 - Accuracy: 0.8235 - val_loss: 0.3645 - val_Accuracy: 0.8545\n",
      "Epoch 40/100\n",
      "800/800 [==============================] - 3s 4ms/step - loss: 0.4205 - Accuracy: 0.8245 - val_loss: 0.3703 - val_Accuracy: 0.8490\n",
      "Epoch 41/100\n",
      "800/800 [==============================] - 3s 4ms/step - loss: 0.4197 - Accuracy: 0.8251 - val_loss: 0.3658 - val_Accuracy: 0.8500\n",
      "Epoch 42/100\n",
      "800/800 [==============================] - 3s 4ms/step - loss: 0.4170 - Accuracy: 0.8284 - val_loss: 0.3606 - val_Accuracy: 0.8520\n",
      "Epoch 43/100\n",
      "800/800 [==============================] - 3s 4ms/step - loss: 0.4179 - Accuracy: 0.8241 - val_loss: 0.3644 - val_Accuracy: 0.8500\n",
      "Epoch 44/100\n",
      "800/800 [==============================] - 3s 4ms/step - loss: 0.4185 - Accuracy: 0.8232 - val_loss: 0.3639 - val_Accuracy: 0.8545\n",
      "Epoch 45/100\n",
      "800/800 [==============================] - 3s 4ms/step - loss: 0.4197 - Accuracy: 0.8253 - val_loss: 0.3647 - val_Accuracy: 0.8475\n",
      "Epoch 46/100\n",
      "800/800 [==============================] - 3s 4ms/step - loss: 0.4215 - Accuracy: 0.8240 - val_loss: 0.3644 - val_Accuracy: 0.8530\n",
      "Epoch 47/100\n",
      "800/800 [==============================] - 3s 4ms/step - loss: 0.4194 - Accuracy: 0.8239 - val_loss: 0.3626 - val_Accuracy: 0.8495\n",
      "Epoch 48/100\n",
      "800/800 [==============================] - 3s 4ms/step - loss: 0.4202 - Accuracy: 0.8215 - val_loss: 0.3588 - val_Accuracy: 0.8565\n",
      "Epoch 49/100\n",
      "800/800 [==============================] - 3s 4ms/step - loss: 0.4144 - Accuracy: 0.8269 - val_loss: 0.3611 - val_Accuracy: 0.8540\n",
      "Epoch 50/100\n",
      "800/800 [==============================] - 3s 3ms/step - loss: 0.4198 - Accuracy: 0.8210 - val_loss: 0.3649 - val_Accuracy: 0.8475\n",
      "Epoch 51/100\n",
      "800/800 [==============================] - 3s 4ms/step - loss: 0.4127 - Accuracy: 0.8263 - val_loss: 0.3618 - val_Accuracy: 0.8530\n",
      "Epoch 52/100\n",
      "800/800 [==============================] - 3s 4ms/step - loss: 0.4099 - Accuracy: 0.8274 - val_loss: 0.3593 - val_Accuracy: 0.8545\n",
      "Epoch 53/100\n",
      "800/800 [==============================] - 3s 4ms/step - loss: 0.4201 - Accuracy: 0.8236 - val_loss: 0.3629 - val_Accuracy: 0.8495\n",
      "Epoch 54/100\n",
      "800/800 [==============================] - 3s 4ms/step - loss: 0.4234 - Accuracy: 0.8232 - val_loss: 0.3651 - val_Accuracy: 0.8500\n",
      "Epoch 55/100\n",
      "800/800 [==============================] - 3s 4ms/step - loss: 0.4172 - Accuracy: 0.8257 - val_loss: 0.3610 - val_Accuracy: 0.8545\n",
      "Epoch 56/100\n",
      "800/800 [==============================] - 3s 4ms/step - loss: 0.4225 - Accuracy: 0.8246 - val_loss: 0.3629 - val_Accuracy: 0.8505\n",
      "Epoch 57/100\n",
      "800/800 [==============================] - 3s 4ms/step - loss: 0.4126 - Accuracy: 0.8274 - val_loss: 0.3611 - val_Accuracy: 0.8515\n"
     ]
    },
    {
     "name": "stdout",
     "output_type": "stream",
     "text": [
      "Epoch 58/100\n",
      "800/800 [==============================] - 3s 3ms/step - loss: 0.4106 - Accuracy: 0.8278 - val_loss: 0.3616 - val_Accuracy: 0.8550\n",
      "Epoch 59/100\n",
      "800/800 [==============================] - 3s 4ms/step - loss: 0.4194 - Accuracy: 0.8221 - val_loss: 0.3657 - val_Accuracy: 0.8475\n",
      "Epoch 60/100\n",
      "800/800 [==============================] - 3s 4ms/step - loss: 0.4196 - Accuracy: 0.8231 - val_loss: 0.3634 - val_Accuracy: 0.8525\n",
      "Epoch 61/100\n",
      "800/800 [==============================] - 3s 4ms/step - loss: 0.4147 - Accuracy: 0.8315 - val_loss: 0.3645 - val_Accuracy: 0.8500\n",
      "Epoch 62/100\n",
      "800/800 [==============================] - 3s 4ms/step - loss: 0.4166 - Accuracy: 0.8221 - val_loss: 0.3625 - val_Accuracy: 0.8535\n",
      "Epoch 63/100\n",
      "800/800 [==============================] - 3s 4ms/step - loss: 0.4127 - Accuracy: 0.8248 - val_loss: 0.3635 - val_Accuracy: 0.8490\n",
      "Epoch 64/100\n",
      "800/800 [==============================] - 3s 3ms/step - loss: 0.4172 - Accuracy: 0.8226 - val_loss: 0.3648 - val_Accuracy: 0.8535\n",
      "Epoch 65/100\n",
      "800/800 [==============================] - 3s 4ms/step - loss: 0.4119 - Accuracy: 0.8274 - val_loss: 0.3596 - val_Accuracy: 0.8540\n",
      "Epoch 66/100\n",
      "800/800 [==============================] - 3s 3ms/step - loss: 0.4136 - Accuracy: 0.8263 - val_loss: 0.3579 - val_Accuracy: 0.8535\n",
      "Epoch 67/100\n",
      "800/800 [==============================] - 3s 3ms/step - loss: 0.4152 - Accuracy: 0.8216 - val_loss: 0.3602 - val_Accuracy: 0.8510\n",
      "Epoch 68/100\n",
      "800/800 [==============================] - 3s 4ms/step - loss: 0.4157 - Accuracy: 0.8256 - val_loss: 0.3638 - val_Accuracy: 0.8560\n",
      "Epoch 69/100\n",
      "800/800 [==============================] - 3s 4ms/step - loss: 0.4160 - Accuracy: 0.8300 - val_loss: 0.3654 - val_Accuracy: 0.8500\n",
      "Epoch 70/100\n",
      "800/800 [==============================] - 3s 4ms/step - loss: 0.4165 - Accuracy: 0.8239 - val_loss: 0.3602 - val_Accuracy: 0.8545\n",
      "Epoch 71/100\n",
      "800/800 [==============================] - 3s 3ms/step - loss: 0.4160 - Accuracy: 0.8248 - val_loss: 0.3611 - val_Accuracy: 0.8500\n",
      "Epoch 72/100\n",
      "800/800 [==============================] - 3s 4ms/step - loss: 0.4151 - Accuracy: 0.8255 - val_loss: 0.3598 - val_Accuracy: 0.8570\n",
      "Epoch 73/100\n",
      "800/800 [==============================] - 3s 4ms/step - loss: 0.4193 - Accuracy: 0.8245 - val_loss: 0.3640 - val_Accuracy: 0.8560\n",
      "Epoch 74/100\n",
      "800/800 [==============================] - 3s 4ms/step - loss: 0.4123 - Accuracy: 0.8278 - val_loss: 0.3601 - val_Accuracy: 0.8570\n",
      "Epoch 75/100\n",
      "800/800 [==============================] - 3s 4ms/step - loss: 0.4121 - Accuracy: 0.8289 - val_loss: 0.3621 - val_Accuracy: 0.8550\n",
      "Epoch 76/100\n",
      "800/800 [==============================] - 3s 4ms/step - loss: 0.4155 - Accuracy: 0.8266 - val_loss: 0.3656 - val_Accuracy: 0.8540\n",
      "Epoch 77/100\n",
      "800/800 [==============================] - 3s 4ms/step - loss: 0.4206 - Accuracy: 0.8220 - val_loss: 0.3678 - val_Accuracy: 0.8485\n",
      "Epoch 78/100\n",
      "800/800 [==============================] - 3s 4ms/step - loss: 0.4169 - Accuracy: 0.8235 - val_loss: 0.3658 - val_Accuracy: 0.8525\n",
      "Epoch 79/100\n",
      "800/800 [==============================] - 3s 4ms/step - loss: 0.4170 - Accuracy: 0.8240 - val_loss: 0.3639 - val_Accuracy: 0.8540\n",
      "Epoch 80/100\n",
      "800/800 [==============================] - 3s 3ms/step - loss: 0.4164 - Accuracy: 0.8292 - val_loss: 0.3654 - val_Accuracy: 0.8520\n",
      "Epoch 81/100\n",
      "800/800 [==============================] - 3s 4ms/step - loss: 0.4086 - Accuracy: 0.8317 - val_loss: 0.3610 - val_Accuracy: 0.8580\n",
      "Epoch 82/100\n",
      "800/800 [==============================] - 3s 4ms/step - loss: 0.4143 - Accuracy: 0.8259 - val_loss: 0.3635 - val_Accuracy: 0.8550\n",
      "Epoch 83/100\n",
      "800/800 [==============================] - 3s 4ms/step - loss: 0.4159 - Accuracy: 0.8242 - val_loss: 0.3594 - val_Accuracy: 0.8545\n",
      "Epoch 84/100\n",
      "800/800 [==============================] - 3s 4ms/step - loss: 0.4131 - Accuracy: 0.8275 - val_loss: 0.3621 - val_Accuracy: 0.8560\n",
      "Epoch 85/100\n",
      "800/800 [==============================] - 3s 4ms/step - loss: 0.4115 - Accuracy: 0.8282 - val_loss: 0.3612 - val_Accuracy: 0.8550\n",
      "Epoch 86/100\n",
      "800/800 [==============================] - 3s 4ms/step - loss: 0.4145 - Accuracy: 0.8255 - val_loss: 0.3623 - val_Accuracy: 0.8525\n",
      "Epoch 87/100\n",
      "800/800 [==============================] - 3s 4ms/step - loss: 0.4111 - Accuracy: 0.8273 - val_loss: 0.3605 - val_Accuracy: 0.8565\n",
      "Epoch 88/100\n",
      "800/800 [==============================] - 3s 3ms/step - loss: 0.4123 - Accuracy: 0.8291 - val_loss: 0.3595 - val_Accuracy: 0.8560\n",
      "Epoch 89/100\n",
      "800/800 [==============================] - 3s 3ms/step - loss: 0.4155 - Accuracy: 0.8275 - val_loss: 0.3625 - val_Accuracy: 0.8530\n",
      "Epoch 90/100\n",
      "800/800 [==============================] - 3s 3ms/step - loss: 0.4139 - Accuracy: 0.8254 - val_loss: 0.3653 - val_Accuracy: 0.8530\n",
      "Epoch 91/100\n",
      "800/800 [==============================] - 3s 3ms/step - loss: 0.4148 - Accuracy: 0.8269 - val_loss: 0.3621 - val_Accuracy: 0.8515\n",
      "Epoch 92/100\n",
      "800/800 [==============================] - 3s 4ms/step - loss: 0.4124 - Accuracy: 0.8280 - val_loss: 0.3597 - val_Accuracy: 0.8540\n",
      "Epoch 93/100\n",
      "800/800 [==============================] - 3s 4ms/step - loss: 0.4114 - Accuracy: 0.8281 - val_loss: 0.3603 - val_Accuracy: 0.8535\n",
      "Epoch 94/100\n",
      "800/800 [==============================] - 3s 3ms/step - loss: 0.4119 - Accuracy: 0.8249 - val_loss: 0.3598 - val_Accuracy: 0.8490\n",
      "Epoch 95/100\n",
      "800/800 [==============================] - 3s 4ms/step - loss: 0.4154 - Accuracy: 0.8260 - val_loss: 0.3593 - val_Accuracy: 0.8585\n",
      "Epoch 96/100\n",
      "800/800 [==============================] - 3s 4ms/step - loss: 0.4129 - Accuracy: 0.8304 - val_loss: 0.3602 - val_Accuracy: 0.8530\n",
      "Epoch 97/100\n",
      "800/800 [==============================] - 3s 4ms/step - loss: 0.4121 - Accuracy: 0.8253 - val_loss: 0.3571 - val_Accuracy: 0.8570\n",
      "Epoch 98/100\n",
      "800/800 [==============================] - 3s 4ms/step - loss: 0.4149 - Accuracy: 0.8271 - val_loss: 0.3606 - val_Accuracy: 0.8545\n",
      "Epoch 99/100\n",
      "800/800 [==============================] - 3s 4ms/step - loss: 0.4151 - Accuracy: 0.8260 - val_loss: 0.3597 - val_Accuracy: 0.8530\n",
      "Epoch 100/100\n",
      "800/800 [==============================] - 3s 4ms/step - loss: 0.4199 - Accuracy: 0.8256 - val_loss: 0.3624 - val_Accuracy: 0.8545\n"
     ]
    }
   ],
   "source": [
    "# Create your model\n",
    "tf.random.set_seed = 42\n",
    "model = Sequential([\n",
    "    tf.keras.layers.Dense(10, activation = 'relu', kernel_initializer = 'he_uniform'),\n",
    "    tf.keras.layers.Dropout(0.5),\n",
    "    tf.keras.layers.Dense(10, activation = 'relu', kernel_initializer = 'he_uniform'),\n",
    "    tf.keras.layers.Dropout(0.5),\n",
    "    tf.keras.layers.Dense(1, activation = 'sigmoid')\n",
    "])\n",
    "model.compile(loss = tf.keras.losses.binary_crossentropy,\n",
    "             optimizer = tf.keras.optimizers.Adam(),\n",
    "             metrics = ['Accuracy'])\n",
    "history = model.fit(x_train, y_train, epochs=100, batch_size=10, validation_data=(x_test, y_test))"
   ]
  },
  {
   "cell_type": "code",
   "execution_count": 38,
   "id": "984231c3",
   "metadata": {},
   "outputs": [
    {
     "name": "stdout",
     "output_type": "stream",
     "text": [
      "63/63 [==============================] - 0s 2ms/step\n"
     ]
    }
   ],
   "source": [
    "# make predictions with the test data you kept\n",
    "y_pred = model.predict(x_test)\n",
    "y_pred = (y_pred > 0.5)"
   ]
  },
  {
   "cell_type": "code",
   "execution_count": 39,
   "id": "1719b282",
   "metadata": {},
   "outputs": [
    {
     "name": "stdout",
     "output_type": "stream",
     "text": [
      "the accuracy of this model is: 85.45\n"
     ]
    }
   ],
   "source": [
    "# Find the accuracy of the model\n",
    "from sklearn.metrics import accuracy_score\n",
    "score = accuracy_score(y_pred, y_test)*100\n",
    "print(f'the accuracy of this model is: {score}')"
   ]
  },
  {
   "cell_type": "code",
   "execution_count": 40,
   "id": "c6f6d808",
   "metadata": {},
   "outputs": [
    {
     "data": {
      "text/plain": [
       "<matplotlib.legend.Legend at 0x2001406b280>"
      ]
     },
     "execution_count": 40,
     "metadata": {},
     "output_type": "execute_result"
    },
    {
     "data": {
      "image/png": "[encoded data removed]",
      "text/plain": [
       "<Figure size 432x288 with 1 Axes>"
      ]
     },
     "metadata": {
      "needs_background": "light"
     },
     "output_type": "display_data"
    }
   ],
   "source": [
    "# check for overfitinh within the model by plotting the accuracy and the losses\n",
    "acc = history.history['Accuracy']\n",
    "val_acc = history.history['val_Accuracy']\n",
    "loss = history.history['loss']\n",
    "val_loss = history.history['val_loss']\n",
    "\n",
    "plt.plot(loss, label='training loss')\n",
    "plt.plot(val_loss, label = 'validation loss')\n",
    "plt.legend()\n"
   ]
  },
  {
   "cell_type": "code",
   "execution_count": 41,
   "id": "bfed9fa2",
   "metadata": {},
   "outputs": [
    {
     "data": {
      "text/plain": [
       "<matplotlib.legend.Legend at 0x200140ccc10>"
      ]
     },
     "execution_count": 41,
     "metadata": {},
     "output_type": "execute_result"
    },
    {
     "data": {
      "image/png": "[encoded data removed]",
      "text/plain": [
       "<Figure size 432x288 with 1 Axes>"
      ]
     },
     "metadata": {
      "needs_background": "light"
     },
     "output_type": "display_data"
    }
   ],
   "source": [
    "plt.plot(acc, label='training accuracy')\n",
    "plt.plot(val_acc, label = 'validation accuracy')\n",
    "plt.legend()"
   ]
  },
  {
   "cell_type": "code",
   "execution_count": null,
   "id": "0bd1b9cf",
   "metadata": {},
   "outputs": [],
   "source": []
  }
 ],
 "metadata": {
  "kernelspec": {
   "display_name": "Python 3 (ipykernel)",
   "language": "python",
   "name": "python3"
  },
  "language_info": {
   "codemirror_mode": {
    "name": "ipython",
    "version": 3
   },
   "file_extension": ".py",
   "mimetype": "text/x-python",
   "name": "python",
   "nbconvert_exporter": "python",
   "pygments_lexer": "ipython3",
   "version": "3.9.12"
  }
 },
 "nbformat": 4,
 "nbformat_minor": 5
}
